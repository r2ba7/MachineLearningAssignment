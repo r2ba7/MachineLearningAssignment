{
 "cells": [
  {
   "cell_type": "code",
   "execution_count": 2,
   "metadata": {},
   "outputs": [
    {
     "name": "stdout",
     "output_type": "stream",
     "text": [
      "Minimum value at 4.0, its coordinates = (2, -2)\n"
     ]
    }
   ],
   "source": [
    "import numpy as np\n",
    "\n",
    "fx1x2 = []\n",
    "for x1 in np.arange(-10, 10):\n",
    "    for x2 in np.arange(-10, 10):\n",
    "        value =  np.exp(x1+x2) + np.exp(-x1-x2) + np.exp(-x1+x2+4) + np.exp(x1-x2-4)\n",
    "        IandV = ((x1, x2), value)\n",
    "        fx1x2.append(IandV)\n",
    "fx1x2 = np.array(fx1x2, dtype=object)\n",
    "\n",
    "min = np.inf\n",
    "index = 0\n",
    "for i, v in fx1x2:\n",
    "    if v < min:\n",
    "        min = v\n",
    "        index = i\n",
    "print(f'Minimum value at {min}, its coordinates = {index}')"
   ]
  },
  {
   "cell_type": "code",
   "execution_count": 3,
   "metadata": {},
   "outputs": [
    {
     "name": "stdout",
     "output_type": "stream",
     "text": [
      "Learning rate: 0.002, Itteration count: 898, X Values: [ 1.99929723 -1.99929723]\n",
      "Learning rate: 0.02, Itteration count: 84, X Values: [ 1.99931216 -1.99931216]\n",
      "Learning rate: 0.2, Itteration count: 1001, X Values: [nan nan]\n",
      "Itteration count: 6, X Values: [ 1.99999997 -1.99999997]\n"
     ]
    }
   ],
   "source": [
    "from numpy import *\n",
    "from numpy.linalg import inv\n",
    "import warnings\n",
    "warnings.filterwarnings('ignore')\n",
    "\n",
    "def f(x1, x2):\n",
    "    return exp(x1+x2) + exp(-x1-x2) + exp(-x1+x2+4) + exp(x1-x2-4)\n",
    "\n",
    "def dfdx1(x1, x2):\n",
    "    return exp(x1+x2) - exp(-x1-x2) - exp(-x1+x2+4) + exp(x1-x2-4)\n",
    "\n",
    "def dfdx2(x1, x2):\n",
    "    return exp(x1+x2) - exp(-x1-x2) + exp(-x1+x2+4) - exp(x1-x2-4)\n",
    "\n",
    "def d2fdx12(x1, x2):\n",
    "    return exp(x1+x2) + exp(-x1-x2) + exp(-x1+x2+4) + exp(x1-x2-4)\n",
    "\n",
    "def d2fdx22(x1, x2):\n",
    "    return exp(x1+x2) + exp(-x1-x2) + exp(-x1+x2+4) + exp(x1-x2-4)\n",
    "\n",
    "def d2fdx1x2(x1, x2):\n",
    "    return exp(x1+x2) + exp(-x1-x2) - exp(-x1+x2+4) - exp(x1-x2-4)\n",
    "\n",
    "def gradf(x1, x2):\n",
    "    return array([dfdx1(x1, x2), dfdx2(x1, x2)])\n",
    "\n",
    "def hessf(x1, x2):\n",
    "    return array([[d2fdx12(x1, x2), d2fdx1x2(x1, x2)], [d2fdx1x2(x1, x2), d2fdx22(x1, x2)]])\n",
    "\n",
    "\n",
    "\n",
    "def grad_descent(f, gradf, init_x, lr, xhat):\n",
    "    x = init_x.copy()\n",
    "    x_h = xhat.copy()\n",
    "    max_itt = 1000\n",
    "    iter = 0\n",
    "    while iter <= max_itt and not (np.sqrt(np.power((x[0]-x_h[0]), 2) + np.power((x[1]-x_h[1]), 2)) <= 0.001):\n",
    "        x -= lr*gradf(x[0], x[1])\n",
    "        iter += 1\n",
    "    return 'Learning rate: {}, Itteration count: {}, X Values: {}'.format(lr, iter, x)\n",
    "\n",
    "def Newton_descent(f, gradf, init_x, xhat):\n",
    "    x = init_x.copy()\n",
    "    x_h = xhat.copy()\n",
    "    max_itt = 1000\n",
    "    iter = 0\n",
    "    while iter <= max_itt and not (np.sqrt(np.power((x[0]-x_h[0]), 2) + np.power((x[1]-x_h[1]), 2)) <= 0.001):\n",
    "        x -= np.dot(inv(hessf(x[0], x[1])),gradf(x[0], x[1]).transpose())\n",
    "        iter += 1\n",
    "    return 'Itteration count: {}, X Values: {}'.format(iter, x)\n",
    "\n",
    "lrs = [0.002, 0.02, 0.2]\n",
    "for lr in lrs:\n",
    "    print(grad_descent(f, gradf, array([0.0, 0.0]), lr, array([2.0, -2.0])))\n",
    "\n",
    "print(Newton_descent(f, gradf, array([0.0, 0.0]), array([2.0, -2.0])))"
   ]
  },
  {
   "cell_type": "code",
   "execution_count": null,
   "metadata": {},
   "outputs": [],
   "source": []
  }
 ],
 "metadata": {
  "interpreter": {
   "hash": "07fa9bf81409dddbc0f40246979006d7ca6031f9367aac9c0171e687148220ab"
  },
  "kernelspec": {
   "display_name": "Python 3.8.8 64-bit",
   "language": "python",
   "name": "python3"
  },
  "language_info": {
   "codemirror_mode": {
    "name": "ipython",
    "version": 3
   },
   "file_extension": ".py",
   "mimetype": "text/x-python",
   "name": "python",
   "nbconvert_exporter": "python",
   "pygments_lexer": "ipython3",
   "version": "3.8.8"
  },
  "orig_nbformat": 4
 },
 "nbformat": 4,
 "nbformat_minor": 2
}
